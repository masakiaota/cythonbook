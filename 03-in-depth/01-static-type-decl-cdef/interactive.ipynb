{
 "cells": [
  {
   "cell_type": "markdown",
   "metadata": {},
   "source": [
    "## 概要\n",
    "理解を深めるためよりinteractiveにサンプルコードを回す"
   ]
  },
  {
   "cell_type": "code",
   "execution_count": null,
   "metadata": {},
   "outputs": [],
   "source": [
    "%load_ext cython"
   ]
  },
  {
   "cell_type": "markdown",
   "metadata": {},
   "source": [
    "### 01 python_dynamic_vars"
   ]
  },
  {
   "cell_type": "code",
   "execution_count": null,
   "metadata": {},
   "outputs": [],
   "source": [
    "a = [x+1 for x in range(12)]\n",
    "b = a\n",
    "a[3] = 42.0\n",
    "assert b[3] == 42.0\n",
    "a = 13\n",
    "assert isinstance(b, list)"
   ]
  },
  {
   "cell_type": "code",
   "execution_count": null,
   "metadata": {},
   "outputs": [],
   "source": [
    "%%cython\n",
    "\n",
    "a = [x+1 for x in range(12)]\n",
    "b = a\n",
    "a[3] = 42.0\n",
    "print(type(a))\n",
    "assert b[3] == 42.0\n",
    "a = 13\n",
    "print(type(a))\n",
    "assert isinstance(b, list)\n",
    "\n",
    "#静的に型をつけないときは途中で方が代わってもおk"
   ]
  },
  {
   "cell_type": "markdown",
   "metadata": {},
   "source": [
    "### \\_02\\_cython_static_vars"
   ]
  },
  {
   "cell_type": "code",
   "execution_count": null,
   "metadata": {},
   "outputs": [],
   "source": [
    "%%cython\n",
    "def dummy_func():\n",
    "    cdef int i\n",
    "    cdef int j\n",
    "    cdef float k\n",
    "\n",
    "    j = 0\n",
    "    i = j\n",
    "    k = 12.0\n",
    "    print(\"i:{}, j:{}, k:{}\".format(i, j, k))\n",
    "#     j = 2 * k #floatをintに代入しようとしているからエラーが出る\n",
    "    assert i != j\n",
    "    print(\"i:{}, j:{}, k:{}\".format(i, j, k))"
   ]
  },
  {
   "cell_type": "code",
   "execution_count": null,
   "metadata": {},
   "outputs": [],
   "source": [
    "try:\n",
    "    dummy_func()\n",
    "except:\n",
    "    print('AssetionError!!')#もちろんそのままではerror"
   ]
  },
  {
   "cell_type": "code",
   "execution_count": null,
   "metadata": {},
   "outputs": [],
   "source": [
    "%%cython\n",
    "def dummy_func():\n",
    "    cdef int i\n",
    "    cdef int j\n",
    "    cdef int k\n",
    "\n",
    "    j = 0\n",
    "    i = j\n",
    "    k = 12\n",
    "    print(\"i:{}, j:{}, k:{}\".format(i, j, k))\n",
    "    j = 2 * k #型があってればcompile erorは起きない\n",
    "    assert i != j\n",
    "    print(\"i:{}, j:{}, k:{}\".format(i, j, k))"
   ]
  },
  {
   "cell_type": "code",
   "execution_count": null,
   "metadata": {},
   "outputs": [],
   "source": [
    "dummy_func()"
   ]
  },
  {
   "cell_type": "code",
   "execution_count": null,
   "metadata": {},
   "outputs": [],
   "source": [
    "%%cython\n",
    "\n",
    "#まとめてcdefと書くこともできるし、C言語のように宣言と同時に代入もできる\n",
    "def dummy_func():\n",
    "    cdef:\n",
    "        int i=0, k=12 #,j としても同じ\n",
    "        int j=i\n",
    "    \n",
    "    print(\"i:{}, j:{}, k:{}\".format(i, j, k))\n",
    "    j = 2 * k\n",
    "    assert i != j\n",
    "    print(\"i:{}, j:{}, k:{}\".format(i, j, k))"
   ]
  },
  {
   "cell_type": "code",
   "execution_count": null,
   "metadata": {},
   "outputs": [],
   "source": [
    "dummy_func()"
   ]
  },
  {
   "cell_type": "code",
   "execution_count": null,
   "metadata": {},
   "outputs": [],
   "source": []
  }
 ],
 "metadata": {
  "kernelspec": {
   "display_name": "Python 3",
   "language": "python",
   "name": "python3"
  },
  "language_info": {
   "codemirror_mode": {
    "name": "ipython",
    "version": 3
   },
   "file_extension": ".py",
   "mimetype": "text/x-python",
   "name": "python",
   "nbconvert_exporter": "python",
   "pygments_lexer": "ipython3",
   "version": "3.6.2"
  }
 },
 "nbformat": 4,
 "nbformat_minor": 2
}
